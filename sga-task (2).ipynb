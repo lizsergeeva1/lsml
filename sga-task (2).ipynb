{
 "cells": [
  {
   "cell_type": "markdown",
   "metadata": {},
   "source": [
    "# User routes on the site\n",
    "## Description\n",
    "**Clickstream** is a sequence of user actions on a website. It allows you to understand how users interact with the site. In this task, you need to find the most frequent custom routes.\n",
    "\n",
    "## Input data\n",
    "Input data is а table with clickstream data in file `hdfs:/data/clickstream.csv`.\n",
    "\n",
    "### Table structure\n",
    "* `user_id (int)` - Unique user identifier.\n",
    "* `session_id (int)` - Unique identifier for the user session. The user's session lasts until the identifier changes.\n",
    "* `event_type (string)` - Event type from the list:\n",
    "    * **page** - visit to the page\n",
    "    * **event** - any action on the page\n",
    "    * <b>&lt;custom&gt;</b> - string with any other type\n",
    "* `event_type (string)` - Page on the site.\n",
    "* `timestamp (int)` - Unix-timestamp of action.\n",
    "\n",
    "### Browser errors\n",
    "Errors can sometimes occur in the user's browser - after such an error appears, we can no longer trust the data of this session and all the following lines after the error or at the same time with it are considered corrupted and **should not be counted** in statistics.\n",
    "\n",
    "When an error occurs on the page, a random string containing the word **error** will be written to the `event_type` field.\n",
    "\n",
    "### Sample of user session\n",
    "<pre>\n",
    "+-------+----------+------------+----------+----------+\n",
    "|user_id|session_id|  event_type|event_page| timestamp|\n",
    "+-------+----------+------------+----------+----------+\n",
    "|    562|       507|        page|      main|1620494781|\n",
    "|    562|       507|       event|      main|1620494788|\n",
    "|    562|       507|       event|      main|1620494798|\n",
    "|    562|       507|        page|    family|1620494820|\n",
    "|    562|       507|       event|    family|1620494828|\n",
    "|    562|       507|        page|      main|1620494848|\n",
    "|    562|       507|wNaxLlerrorU|      main|1620494865|\n",
    "|    562|       507|       event|      main|1620494873|\n",
    "|    562|       507|        page|      news|1620494875|\n",
    "|    562|       507|        page|   tariffs|1620494876|\n",
    "|    562|       507|       event|   tariffs|1620494884|\n",
    "|    562|       514|        page|      main|1620728918|\n",
    "|    562|       514|       event|      main|1620729174|\n",
    "|    562|       514|        page|   archive|1620729674|\n",
    "|    562|       514|        page|     bonus|1620729797|\n",
    "|    562|       514|        page|   tariffs|1620731090|\n",
    "|    562|       514|       event|   tariffs|1620731187|\n",
    "+-------+----------+------------+----------+----------+\n",
    "</pre>\n",
    "\n",
    "#### Correct user routes for a given user:\n",
    "* **Session 507**: main-family-main\n",
    "* **Session 514**: main-archive-bonus-tariffs\n",
    "\n",
    "Route elements are ordered by the time they appear in the clickstream, from earliest to latest.\n",
    "\n",
    "The route must be accounted for completely before the end of the session or an error in the session.\n",
    "\n",
    "## Task\n",
    "You need to use the Spark SQL, Spark RDD and Spark DF interfaces to create a solution file, the lines of which contain **the 30 most frequent user routes** on the site.\n",
    "\n",
    "Each line of the file should contain the `route` and `count` values **separated by tabs**, where:\n",
    "* `route` - route on the site, consisting of pages separated by \"-\".\n",
    "* `count` - the number of user sessions in which this route was.\n",
    "\n",
    "The lines must be **ordered in descending order** of the `count` field.\n",
    "\n",
    "## Criteria\n",
    "You can get maximum of 3.5 points (final grade) for this assignment, depedning on the number of interface you manage to leverage. The criteria are as follows:\n",
    "\n",
    "* 0.5 points – Spark SQL solution with 1 query\n",
    "* 0.5 points – Spark SQL solution with <=2 queries\n",
    "* 0.5 points – Spark RDD solution\n",
    "* 0.5 points – Spark DF solution\n",
    "* 0.5 points – your solution algorithm is relatively optimized, i.e.: no O^2 or O^3 complexities; appropriate object usage; no data leaks etc. This is evaluated by staff.\n",
    "* 1 point – 1 on 1 screening session. During this session staff member can ask you questions regarding your solution logic, framework usage, questionable parts of your code etc. If your code is clean enough, the staff member can just ask you to solve a theoretical problem connected to Spark.\n"
   ]
  },
  {
   "cell_type": "markdown",
   "metadata": {},
   "source": [
    "## Spark SQL"
   ]
  },
  {
   "cell_type": "code",
   "execution_count": 1,
   "metadata": {
    "tags": []
   },
   "outputs": [
    {
     "name": "stderr",
     "output_type": "stream",
     "text": [
      "Setting default log level to \"WARN\".\n",
      "To adjust logging level use sc.setLogLevel(newLevel). For SparkR, use setLogLevel(newLevel).\n",
      "2023-10-09 21:41:19,624 WARN yarn.Client: Neither spark.yarn.jars nor spark.yarn.archive is set, falling back to uploading libraries under SPARK_HOME.\n"
     ]
    }
   ],
   "source": [
    "import findspark\n",
    "findspark.init()\n",
    "\n",
    "import pyspark\n",
    "from pyspark.sql import SparkSession\n",
    "sc = pyspark.SparkContext(appName='sga_task')\n",
    "se = SparkSession(sc)"
   ]
  },
  {
   "cell_type": "code",
   "execution_count": 3,
   "metadata": {
    "tags": []
   },
   "outputs": [
    {
     "name": "stdout",
     "output_type": "stream",
     "text": [
      "put: `clickstream.csv': File exists\n"
     ]
    },
    {
     "name": "stderr",
     "output_type": "stream",
     "text": [
      "                                                                                \r"
     ]
    }
   ],
   "source": [
    "!hadoop fs -put clickstream.csv clickstream.csv\n",
    "clickstream = se.read.option(\"delimiter\", \"\\t\").csv(\"clickstream.csv\", header=True)\n",
    "clickstream.createOrReplaceTempView(\"clickstream\")"
   ]
  },
  {
   "cell_type": "code",
   "execution_count": 4,
   "metadata": {
    "tags": []
   },
   "outputs": [],
   "source": [
    "query = \"\"\"\n",
    "WITH page_routes AS(\n",
    "SELECT c.user_id,\n",
    "       c.session_id,\n",
    "       c.timestamp,\n",
    "       COLLECT_LIST(c.event_page) OVER(PARTITION BY c.user_id, c.session_id ORDER BY c.timestamp) AS route,\n",
    "       ROW_NUMBER() OVER(PARTITION BY c.user_id, c.session_id ORDER BY c.timestamp DESC) AS rn\n",
    "FROM clickstream c\n",
    "LEFT JOIN (SELECT cs.user_id,\n",
    "                  cs.session_id,\n",
    "                  MIN(cs.timestamp) FILTER(WHERE cs.event_type LIKE '%error%') AS min_tmp\n",
    "           FROM clickstream cs\n",
    "           GROUP BY 1,2) min_time ON min_time.user_id = c.user_id\n",
    "                                  AND min_time.session_id = c.session_id\n",
    "WHERE (c.timestamp < min_time.min_tmp OR min_time.min_tmp IS NULL) \n",
    "      AND c.event_type = 'page' )\n",
    "\n",
    "SELECT CONCAT_WS('-', route) AS route,\n",
    "       COUNT(*) cnt_total\n",
    "FROM page_routes p \n",
    "WHERE rn = 1\n",
    "GROUP BY 1\n",
    "ORDER BY 2 DESC\"\"\""
   ]
  },
  {
   "cell_type": "code",
   "execution_count": 5,
   "metadata": {
    "tags": []
   },
   "outputs": [
    {
     "name": "stderr",
     "output_type": "stream",
     "text": [
      "[Stage 8:==========================================>                (5 + 2) / 7]\r"
     ]
    },
    {
     "name": "stdout",
     "output_type": "stream",
     "text": [
      "+--------------------+---------+\n",
      "|               route|cnt_total|\n",
      "+--------------------+---------+\n",
      "|                main|     8090|\n",
      "|        main-archive|     1096|\n",
      "|         main-rabota|     1039|\n",
      "|       main-internet|      880|\n",
      "|          main-bonus|      865|\n",
      "|           main-news|      760|\n",
      "|        main-tariffs|      669|\n",
      "|         main-online|      584|\n",
      "|          main-vklad|      514|\n",
      "| main-rabota-archive|      167|\n",
      "| main-archive-rabota|      167|\n",
      "|  main-bonus-archive|      139|\n",
      "|   main-rabota-bonus|      137|\n",
      "|    main-news-rabota|      134|\n",
      "|   main-bonus-rabota|      133|\n",
      "|main-archive-inte...|      131|\n",
      "|    main-rabota-news|      129|\n",
      "|main-internet-rabota|      128|\n",
      "|   main-archive-news|      125|\n",
      "|main-rabota-internet|      123|\n",
      "|main-internet-arc...|      123|\n",
      "|  main-archive-bonus|      117|\n",
      "|main-tariffs-inte...|      114|\n",
      "| main-internet-bonus|      114|\n",
      "|   main-news-archive|      112|\n",
      "|  main-news-internet|      108|\n",
      "|main-archive-tariffs|      103|\n",
      "|  main-internet-news|      102|\n",
      "|main-tariffs-archive|      102|\n",
      "|           main-main|       94|\n",
      "+--------------------+---------+\n",
      "only showing top 30 rows\n",
      "\n"
     ]
    },
    {
     "name": "stderr",
     "output_type": "stream",
     "text": [
      "                                                                                \r"
     ]
    }
   ],
   "source": [
    "route = se.sql(query)\n",
    "route.show(30)"
   ]
  },
  {
   "cell_type": "code",
   "execution_count": 144,
   "metadata": {
    "tags": []
   },
   "outputs": [
    {
     "name": "stderr",
     "output_type": "stream",
     "text": [
      "                                                                                \r"
     ]
    }
   ],
   "source": [
    "route_pd = route.toPandas()"
   ]
  },
  {
   "cell_type": "code",
   "execution_count": 146,
   "metadata": {
    "tags": []
   },
   "outputs": [],
   "source": [
    "route_pd.to_csv('spark_sql.csv')"
   ]
  },
  {
   "cell_type": "markdown",
   "metadata": {},
   "source": [
    "## Spark DF"
   ]
  },
  {
   "cell_type": "code",
   "execution_count": 6,
   "metadata": {
    "tags": []
   },
   "outputs": [],
   "source": [
    "from pyspark.sql.window import Window\n",
    "from pyspark.sql import functions as func"
   ]
  },
  {
   "cell_type": "code",
   "execution_count": 7,
   "metadata": {
    "tags": []
   },
   "outputs": [
    {
     "name": "stderr",
     "output_type": "stream",
     "text": [
      "[Stage 17:=================================================>        (6 + 1) / 7]\r"
     ]
    },
    {
     "name": "stdout",
     "output_type": "stream",
     "text": [
      "+--------------------+---------+\n",
      "|               route|cnt_total|\n",
      "+--------------------+---------+\n",
      "|                main|     8090|\n",
      "|        main-archive|     1096|\n",
      "|         main-rabota|     1039|\n",
      "|       main-internet|      880|\n",
      "|          main-bonus|      865|\n",
      "|           main-news|      760|\n",
      "|        main-tariffs|      669|\n",
      "|         main-online|      584|\n",
      "|          main-vklad|      514|\n",
      "| main-rabota-archive|      167|\n",
      "| main-archive-rabota|      167|\n",
      "|  main-bonus-archive|      139|\n",
      "|   main-rabota-bonus|      137|\n",
      "|    main-news-rabota|      134|\n",
      "|   main-bonus-rabota|      133|\n",
      "|main-archive-inte...|      131|\n",
      "|    main-rabota-news|      129|\n",
      "|main-internet-rabota|      128|\n",
      "|   main-archive-news|      125|\n",
      "|main-rabota-internet|      123|\n",
      "|main-internet-arc...|      123|\n",
      "|  main-archive-bonus|      117|\n",
      "|main-tariffs-inte...|      114|\n",
      "| main-internet-bonus|      114|\n",
      "|   main-news-archive|      112|\n",
      "|  main-news-internet|      108|\n",
      "|main-archive-tariffs|      103|\n",
      "|  main-internet-news|      102|\n",
      "|main-tariffs-archive|      102|\n",
      "|           main-main|       94|\n",
      "+--------------------+---------+\n",
      "only showing top 30 rows\n",
      "\n"
     ]
    },
    {
     "name": "stderr",
     "output_type": "stream",
     "text": [
      "                                                                                \r"
     ]
    }
   ],
   "source": [
    "errors = clickstream.alias('e')\\\n",
    "                    .filter(func.col('e.event_type').like('%error%'))\\\n",
    "                    .groupBy('e.user_id', 'e.session_id').agg(func.min('e.timestamp').alias('min_tmp'))\n",
    "cleaned_session = clickstream.alias('c')\\\n",
    "                             .join(errors.alias('cf'), on = ['user_id', 'session_id'], how = 'left')\\\n",
    "                             .filter(((func.col('c.timestamp') < func.col('cf.min_tmp')) | func.col('cf.min_tmp').isNull()) & (func.col('c.event_type') == 'page'))\\\n",
    "                             .withColumn('rn', func.row_number().over(Window.partitionBy('c.user_id', 'c.session_id').orderBy(func.col('c.timestamp').desc())))\n",
    "cleaned_routes  = cleaned_session.alias('cl')\\\n",
    "                                 .withColumn('route', func.collect_list('cl.event_page').over(Window.partitionBy('cl.user_id', 'cl.session_id').orderBy('cl.timestamp')))\\\n",
    "                                 .filter(func.col('cl.rn') == 1)\n",
    "all_routes = cleaned_routes.groupBy(func.concat_ws('-','route').alias('route'))\\\n",
    "                           .agg(func.count('*').alias('cnt_total'))\\\n",
    "                           .orderBy('cnt_total', ascending = False)\n",
    "all_routes.show(30)"
   ]
  },
  {
   "cell_type": "code",
   "execution_count": 149,
   "metadata": {
    "tags": []
   },
   "outputs": [
    {
     "name": "stderr",
     "output_type": "stream",
     "text": [
      "                                                                                \r"
     ]
    }
   ],
   "source": [
    "all_routes_pd = all_routes.toPandas()"
   ]
  },
  {
   "cell_type": "code",
   "execution_count": 150,
   "metadata": {
    "tags": []
   },
   "outputs": [],
   "source": [
    "all_routes_pd.to_csv('spark_df.csv')"
   ]
  },
  {
   "cell_type": "markdown",
   "metadata": {},
   "source": [
    "## Spark RDD"
   ]
  },
  {
   "cell_type": "code",
   "execution_count": 8,
   "metadata": {
    "tags": []
   },
   "outputs": [],
   "source": [
    "import warnings\n",
    "warnings.filterwarnings(\"ignore\")"
   ]
  },
  {
   "cell_type": "code",
   "execution_count": 9,
   "metadata": {
    "tags": []
   },
   "outputs": [],
   "source": [
    "rdd = clickstream.rdd"
   ]
  },
  {
   "cell_type": "code",
   "execution_count": 14,
   "metadata": {
    "tags": []
   },
   "outputs": [
    {
     "name": "stderr",
     "output_type": "stream",
     "text": [
      "                                                                                \r"
     ]
    },
    {
     "data": {
      "text/plain": [
       "[('main', 8090),\n",
       " ('main-archive', 1093),\n",
       " ('main-rabota', 1036),\n",
       " ('main-internet', 880),\n",
       " ('main-bonus', 865),\n",
       " ('main-news', 760),\n",
       " ('main-tariffs', 668),\n",
       " ('main-online', 584),\n",
       " ('main-vklad', 514),\n",
       " ('main-archive-rabota', 167),\n",
       " ('main-rabota-archive', 167),\n",
       " ('main-bonus-archive', 139),\n",
       " ('main-rabota-bonus', 137),\n",
       " ('main-news-rabota', 134),\n",
       " ('main-bonus-rabota', 133),\n",
       " ('main-archive-internet', 131),\n",
       " ('main-rabota-news', 129),\n",
       " ('main-internet-rabota', 128),\n",
       " ('main-archive-news', 125),\n",
       " ('main-internet-archive', 123),\n",
       " ('main-rabota-internet', 123),\n",
       " ('main-archive-bonus', 117),\n",
       " ('main-tariffs-internet', 114),\n",
       " ('main-internet-bonus', 113),\n",
       " ('main-news-archive', 112),\n",
       " ('main-news-internet', 108),\n",
       " ('main-archive-tariffs', 103),\n",
       " ('main-internet-news', 102),\n",
       " ('main-tariffs-archive', 101),\n",
       " ('main-main', 94)]"
      ]
     },
     "execution_count": 14,
     "metadata": {},
     "output_type": "execute_result"
    }
   ],
   "source": [
    "errors = (rdd.filter(lambda r: 'error' in r.event_type)\n",
    "             .map(lambda r: ((r.user_id, r.session_id), r.timestamp)).combineByKey(lambda x: x, min, min))\n",
    "\n",
    "clean_route = (rdd\n",
    "               .filter(lambda r: r.event_type == 'page')\n",
    "               .map(lambda r: ((r.user_id, r.session_id), r))\n",
    "               .leftOuterJoin(errors)\n",
    "               .filter(lambda x: x[1][1] is None or x[1][0].timestamp < x[1][1])\n",
    "               .map(lambda x: x[1][0])\n",
    "               .map(lambda r: ((r.user_id, r.session_id), [r.event_page]))\n",
    "               .reduceByKey(lambda a, b: a + b)\n",
    "               .map(lambda x: (\"-\".join(x[1]), 1))\n",
    "               .reduceByKey(lambda a, b: a + b)\n",
    "               .sortBy(lambda x: x[1], ascending=False).take(30))\n",
    "\n",
    "clean_route\n"
   ]
  },
  {
   "cell_type": "code",
   "execution_count": 159,
   "metadata": {
    "tags": []
   },
   "outputs": [],
   "source": [
    "clean_route_df = pd.DataFrame(clean_route)\n",
    "clean_route_df.to_csv('rdd.csv')"
   ]
  },
  {
   "cell_type": "code",
   "execution_count": null,
   "metadata": {},
   "outputs": [],
   "source": []
  }
 ],
 "metadata": {
  "coursera": {
   "schema_names": [
    "week-4-spark-homework"
   ]
  },
  "kernelspec": {
   "display_name": "Python 3 (ipykernel)",
   "language": "python",
   "name": "python3"
  },
  "language_info": {
   "codemirror_mode": {
    "name": "ipython",
    "version": 3
   },
   "file_extension": ".py",
   "mimetype": "text/x-python",
   "name": "python",
   "nbconvert_exporter": "python",
   "pygments_lexer": "ipython3",
   "version": "3.10.9"
  },
  "vscode": {
   "interpreter": {
    "hash": "31f2aee4e71d21fbe5cf8b01ff0e069b9275f58929596ceb00d14d90e3e16cd6"
   }
  }
 },
 "nbformat": 4,
 "nbformat_minor": 4
}
