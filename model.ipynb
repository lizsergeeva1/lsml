{
  "metadata": {
    "kernelspec": {
      "language": "python",
      "display_name": "Python 3",
      "name": "python3"
    },
    "language_info": {
      "name": "python",
      "version": "3.10.12",
      "mimetype": "text/x-python",
      "codemirror_mode": {
        "name": "ipython",
        "version": 3
      },
      "pygments_lexer": "ipython3",
      "nbconvert_exporter": "python",
      "file_extension": ".py"
    },
    "colab": {
      "provenance": []
    }
  },
  "nbformat_minor": 0,
  "nbformat": 4,
  "cells": [
    {
      "cell_type": "code",
      "source": [
        "import seaborn as sns\n",
        "from matplotlib import pyplot as plt\n",
        "import string\n",
        "import nltk\n",
        "import numpy as np\n",
        "import pandas as pd\n",
        "from sklearn.pipeline import Pipeline\n",
        "\n",
        "from nltk.corpus import stopwords\n",
        "from nltk.tokenize import sent_tokenize\n",
        "from nltk.tokenize import word_tokenize\n",
        "from sklearn.linear_model import LogisticRegression\n",
        "from sklearn.metrics import accuracy_score as accuracy\n",
        "import random\n",
        "import torch\n",
        "import transformers\n",
        "from transformers import BertTokenizer, BertModel, BertForQuestionAnswering\n",
        "\n",
        "from collections import OrderedDict\n",
        "from operator import itemgetter\n",
        "from collections import Counter\n",
        "\n",
        "import sklearn.metrics as metrics\n",
        "import matplotlib.pyplot as plt\n",
        "from sklearn.svm import SVC\n",
        "from sklearn.model_selection import train_test_split\n",
        "from sklearn.feature_extraction.text import TfidfVectorizer"
      ],
      "metadata": {
        "execution": {
          "iopub.status.busy": "2023-11-12T13:45:27.966924Z",
          "iopub.execute_input": "2023-11-12T13:45:27.967209Z",
          "iopub.status.idle": "2023-11-12T13:45:27.975092Z",
          "shell.execute_reply.started": "2023-11-12T13:45:27.967185Z",
          "shell.execute_reply": "2023-11-12T13:45:27.974077Z"
        },
        "trusted": true,
        "id": "aI61WzkY2-b-"
      },
      "execution_count": null,
      "outputs": []
    },
    {
      "cell_type": "code",
      "source": [
        "train = pd.read_csv('/kaggle/input/sentiment-dataset-with-1-million-tweets/dataset.csv')"
      ],
      "metadata": {
        "execution": {
          "iopub.status.busy": "2023-11-12T13:18:11.664783Z",
          "iopub.execute_input": "2023-11-12T13:18:11.665197Z",
          "iopub.status.idle": "2023-11-12T13:18:17.100085Z",
          "shell.execute_reply.started": "2023-11-12T13:18:11.665171Z",
          "shell.execute_reply": "2023-11-12T13:18:17.099095Z"
        },
        "trusted": true,
        "id": "5zOGMEv72-cC"
      },
      "execution_count": null,
      "outputs": []
    },
    {
      "cell_type": "markdown",
      "source": [
        "Let's choose only english language"
      ],
      "metadata": {
        "id": "MVW17JLu2-cC"
      }
    },
    {
      "cell_type": "code",
      "source": [
        "train = train[train['Language'] == 'en']"
      ],
      "metadata": {
        "execution": {
          "iopub.status.busy": "2023-11-12T13:19:48.900369Z",
          "iopub.execute_input": "2023-11-12T13:19:48.900761Z",
          "iopub.status.idle": "2023-11-12T13:19:49.133882Z",
          "shell.execute_reply.started": "2023-11-12T13:19:48.900731Z",
          "shell.execute_reply": "2023-11-12T13:19:49.133029Z"
        },
        "trusted": true,
        "id": "Un856VkF2-cD"
      },
      "execution_count": null,
      "outputs": []
    },
    {
      "cell_type": "markdown",
      "source": [
        "Now we should clean the text"
      ],
      "metadata": {
        "id": "NP7gLn7k2-cE"
      }
    },
    {
      "cell_type": "code",
      "source": [
        "train['Text'] = train['Text'].replace(r'http\\S+', '', regex=True).replace(r'www\\S+', '', regex=True).str.replace('@[A-Za-z0-9]+\\s?', '', regex=True)\n"
      ],
      "metadata": {
        "execution": {
          "iopub.status.busy": "2023-11-12T13:20:28.406454Z",
          "iopub.execute_input": "2023-11-12T13:20:28.407217Z",
          "iopub.status.idle": "2023-11-12T13:20:31.843996Z",
          "shell.execute_reply.started": "2023-11-12T13:20:28.407189Z",
          "shell.execute_reply": "2023-11-12T13:20:31.843222Z"
        },
        "trusted": true,
        "id": "iIOAM6zQ2-cE"
      },
      "execution_count": null,
      "outputs": []
    },
    {
      "cell_type": "code",
      "source": [
        "def clean_text(data):\n",
        "\n",
        "    data = data.str.lower()\n",
        "    data = data.replace(r'http\\S+', '', regex=True).replace(r'www\\S+', '', regex=True).str.replace('@[A-Za-z0-9]+\\s?', '', regex=True)\n",
        "    data = data.str.replace('[^\\w\\s]', '')\n",
        "    data = data.str.replace('_[A-Za-z0-9]+\\s?', '', regex=True)\n",
        "\n",
        "    return data"
      ],
      "metadata": {
        "execution": {
          "iopub.status.busy": "2023-11-12T13:20:54.556029Z",
          "iopub.execute_input": "2023-11-12T13:20:54.556894Z",
          "iopub.status.idle": "2023-11-12T13:20:54.562218Z",
          "shell.execute_reply.started": "2023-11-12T13:20:54.556861Z",
          "shell.execute_reply": "2023-11-12T13:20:54.561344Z"
        },
        "trusted": true,
        "id": "wR43NZad2-cE"
      },
      "execution_count": null,
      "outputs": []
    },
    {
      "cell_type": "code",
      "source": [
        "train['Text'] = clean_text(train['Text'])"
      ],
      "metadata": {
        "execution": {
          "iopub.status.busy": "2023-11-12T13:21:18.806410Z",
          "iopub.execute_input": "2023-11-12T13:21:18.806770Z",
          "iopub.status.idle": "2023-11-12T13:21:24.048599Z",
          "shell.execute_reply.started": "2023-11-12T13:21:18.806742Z",
          "shell.execute_reply": "2023-11-12T13:21:24.047558Z"
        },
        "trusted": true,
        "id": "qqpW-eZo2-cF"
      },
      "execution_count": null,
      "outputs": []
    },
    {
      "cell_type": "markdown",
      "source": [
        "Now we will tokenize Text"
      ],
      "metadata": {
        "id": "L4Y34KIX2-cF"
      }
    },
    {
      "cell_type": "code",
      "source": [
        "def tokenize(text):\n",
        "\n",
        "    tokens = nltk.word_tokenize(text)\n",
        "    stop_words = nltk.corpus.stopwords.words('english')\n",
        "    tokens = [i for i in tokens if (i not in stop_words)]\n",
        "    tokens = [i.replace('«', '').replace('»', '').replace('--', '').replace(\"''\", '').replace(\"``\", '') for i in tokens]\n",
        "    tokens = [i.lower() for i in tokens if i != '']\n",
        "\n",
        "    return tokens\n",
        "\n",
        "def tokenize_sent(text):\n",
        "    sentences = [tokenize(sent) for sent in nltk.sent_tokenize(text, 'english')]\n",
        "    flatten = [x for b in sentences for x in b]\n",
        "    return flatten\n",
        "\n",
        "def clean_up(lst):\n",
        "    return [[w for w in sublist if w not in string.punctuation] for sublist in lst]\n"
      ],
      "metadata": {
        "execution": {
          "iopub.status.busy": "2023-11-12T13:21:46.749881Z",
          "iopub.execute_input": "2023-11-12T13:21:46.750237Z",
          "iopub.status.idle": "2023-11-12T13:21:46.885675Z",
          "shell.execute_reply.started": "2023-11-12T13:21:46.750209Z",
          "shell.execute_reply": "2023-11-12T13:21:46.884740Z"
        },
        "trusted": true,
        "id": "FJjB8oJ92-cF"
      },
      "execution_count": null,
      "outputs": []
    },
    {
      "cell_type": "code",
      "source": [
        "train['tokenized'] = train['Text'].apply(tokenize_sent)\n",
        "\n",
        "train.head(2)"
      ],
      "metadata": {
        "execution": {
          "iopub.status.busy": "2023-11-12T13:22:00.751383Z",
          "iopub.execute_input": "2023-11-12T13:22:00.751756Z",
          "iopub.status.idle": "2023-11-12T13:34:33.542179Z",
          "shell.execute_reply.started": "2023-11-12T13:22:00.751725Z",
          "shell.execute_reply": "2023-11-12T13:34:33.541332Z"
        },
        "trusted": true,
        "id": "qd1Lt3kf2-cG",
        "outputId": "b16e134d-652f-46b8-ad46-e82514cb092b"
      },
      "execution_count": null,
      "outputs": [
        {
          "execution_count": 8,
          "output_type": "execute_result",
          "data": {
            "text/plain": "                                                Text Language      Label  \\\n0  testimony is not evidence in a court of law, s...       en  litigious   \n2   flagstar bank discloses a data breach that im...       en  litigious   \n\n                                           tokenized  \n0  [testimony, evidence, court, law, ,, state, fe...  \n2  [flagstar, bank, discloses, data, breach, impa...  ",
            "text/html": "<div>\n<style scoped>\n    .dataframe tbody tr th:only-of-type {\n        vertical-align: middle;\n    }\n\n    .dataframe tbody tr th {\n        vertical-align: top;\n    }\n\n    .dataframe thead th {\n        text-align: right;\n    }\n</style>\n<table border=\"1\" class=\"dataframe\">\n  <thead>\n    <tr style=\"text-align: right;\">\n      <th></th>\n      <th>Text</th>\n      <th>Language</th>\n      <th>Label</th>\n      <th>tokenized</th>\n    </tr>\n  </thead>\n  <tbody>\n    <tr>\n      <th>0</th>\n      <td>testimony is not evidence in a court of law, s...</td>\n      <td>en</td>\n      <td>litigious</td>\n      <td>[testimony, evidence, court, law, ,, state, fe...</td>\n    </tr>\n    <tr>\n      <th>2</th>\n      <td>flagstar bank discloses a data breach that im...</td>\n      <td>en</td>\n      <td>litigious</td>\n      <td>[flagstar, bank, discloses, data, breach, impa...</td>\n    </tr>\n  </tbody>\n</table>\n</div>"
          },
          "metadata": {}
        }
      ]
    },
    {
      "cell_type": "code",
      "source": [
        "y_train = train['Label']\n",
        "X_train = train['Text']"
      ],
      "metadata": {
        "execution": {
          "iopub.status.busy": "2023-11-12T13:40:34.855528Z",
          "iopub.execute_input": "2023-11-12T13:40:34.856469Z",
          "iopub.status.idle": "2023-11-12T13:40:34.860694Z",
          "shell.execute_reply.started": "2023-11-12T13:40:34.856435Z",
          "shell.execute_reply": "2023-11-12T13:40:34.859700Z"
        },
        "trusted": true,
        "id": "inOZIttH2-cH"
      },
      "execution_count": null,
      "outputs": []
    },
    {
      "cell_type": "code",
      "source": [
        "!brew install wget\n",
        "!wget -O GoogleNews-vectors-negative300.bin.gz \"drive.google.com/u/3/uc?id=1pPPHMNjJAb82-xYFFJLz_kqcnNhmwAhW&export=download&confirm=yes\"\n",
        "!gzip -d GoogleNews-vectors-negative300.bin.gz n\n"
      ],
      "metadata": {
        "execution": {
          "iopub.status.busy": "2023-11-12T13:35:35.507213Z",
          "iopub.execute_input": "2023-11-12T13:35:35.507924Z",
          "iopub.status.idle": "2023-11-12T13:36:32.815131Z",
          "shell.execute_reply.started": "2023-11-12T13:35:35.507889Z",
          "shell.execute_reply": "2023-11-12T13:36:32.814051Z"
        },
        "trusted": true,
        "id": "gYo4mrgf2-cH",
        "outputId": "3fa582d8-1411-438a-90b6-96738c2c1b91"
      },
      "execution_count": null,
      "outputs": [
        {
          "name": "stdout",
          "text": "/bin/bash: line 1: brew: command not found\n--2023-11-12 13:35:37--  http://drive.google.com/u/3/uc?id=1pPPHMNjJAb82-xYFFJLz_kqcnNhmwAhW&export=download&confirm=yes\nResolving drive.google.com (drive.google.com)... 142.250.107.139, 142.250.107.100, 142.250.107.113, ...\nConnecting to drive.google.com (drive.google.com)|142.250.107.139|:80... connected.\nHTTP request sent, awaiting response... 301 Moved Permanently\nLocation: https://drive.google.com/u/3/uc?id=1pPPHMNjJAb82-xYFFJLz_kqcnNhmwAhW&export=download&confirm=yes [following]\n--2023-11-12 13:35:37--  https://drive.google.com/u/3/uc?id=1pPPHMNjJAb82-xYFFJLz_kqcnNhmwAhW&export=download&confirm=yes\nConnecting to drive.google.com (drive.google.com)|142.250.107.139|:443... connected.\nHTTP request sent, awaiting response... 302 Found\nLocation: https://drive.google.com/uc?id=1pPPHMNjJAb82-xYFFJLz_kqcnNhmwAhW&export=download&confirm=yes [following]\n--2023-11-12 13:35:37--  https://drive.google.com/uc?id=1pPPHMNjJAb82-xYFFJLz_kqcnNhmwAhW&export=download&confirm=yes\nReusing existing connection to drive.google.com:443.\nHTTP request sent, awaiting response... 303 See Other\nLocation: https://doc-0s-3o-docs.googleusercontent.com/docs/securesc/ha0ro937gcuc7l7deffksulhg5h7mbp1/6rh22t624fc17ipf6fj2c4asekmtr6dp/1699796100000/07235247047293615656/*/1pPPHMNjJAb82-xYFFJLz_kqcnNhmwAhW?e=download&uuid=36cb5564-37c4-4513-b722-9ed0d70f5e9e [following]\nWarning: wildcards not supported in HTTP.\n--2023-11-12 13:35:37--  https://doc-0s-3o-docs.googleusercontent.com/docs/securesc/ha0ro937gcuc7l7deffksulhg5h7mbp1/6rh22t624fc17ipf6fj2c4asekmtr6dp/1699796100000/07235247047293615656/*/1pPPHMNjJAb82-xYFFJLz_kqcnNhmwAhW?e=download&uuid=36cb5564-37c4-4513-b722-9ed0d70f5e9e\nResolving doc-0s-3o-docs.googleusercontent.com (doc-0s-3o-docs.googleusercontent.com)... 142.250.107.132, 2607:f8b0:400e:c0d::84\nConnecting to doc-0s-3o-docs.googleusercontent.com (doc-0s-3o-docs.googleusercontent.com)|142.250.107.132|:443... connected.\nHTTP request sent, awaiting response... 200 OK\nLength: 1647046227 (1.5G) [application/x-gzip]\nSaving to: ‘GoogleNews-vectors-negative300.bin.gz’\n\nGoogleNews-vectors- 100%[===================>]   1.53G  91.6MB/s    in 18s     \n\n2023-11-12 13:35:55 (89.4 MB/s) - ‘GoogleNews-vectors-negative300.bin.gz’ saved [1647046227/1647046227]\n\ngzip: n.gz: No such file or directory\n",
          "output_type": "stream"
        }
      ]
    },
    {
      "cell_type": "code",
      "source": [
        "from gensim.models import KeyedVectors\n",
        "\n",
        "model = KeyedVectors.load_word2vec_format('GoogleNews-vectors-negative300.bin', binary=True)"
      ],
      "metadata": {
        "execution": {
          "iopub.status.busy": "2023-11-12T13:37:04.911861Z",
          "iopub.execute_input": "2023-11-12T13:37:04.912642Z",
          "iopub.status.idle": "2023-11-12T13:38:00.485509Z",
          "shell.execute_reply.started": "2023-11-12T13:37:04.912605Z",
          "shell.execute_reply": "2023-11-12T13:38:00.484676Z"
        },
        "trusted": true,
        "id": "Io3Dmwx32-cH"
      },
      "execution_count": null,
      "outputs": []
    },
    {
      "cell_type": "code",
      "source": [
        "X_train, X_val, y_train, y_val = train_test_split(X_train, y_train, test_size=0.2, random_state=42)"
      ],
      "metadata": {
        "execution": {
          "iopub.status.busy": "2023-11-12T13:40:39.945625Z",
          "iopub.execute_input": "2023-11-12T13:40:39.945998Z",
          "iopub.status.idle": "2023-11-12T13:40:40.091611Z",
          "shell.execute_reply.started": "2023-11-12T13:40:39.945970Z",
          "shell.execute_reply": "2023-11-12T13:40:40.090834Z"
        },
        "trusted": true,
        "id": "-90CBSit2-cH"
      },
      "execution_count": null,
      "outputs": []
    },
    {
      "cell_type": "code",
      "source": [
        "model = Pipeline(((\"vector\", TfidfVectorizer()),(\"LR\", LogisticRegression(max_iter=600))))\n",
        "model.fit(X_train,y_train)"
      ],
      "metadata": {
        "execution": {
          "iopub.status.busy": "2023-11-12T13:40:47.171715Z",
          "iopub.execute_input": "2023-11-12T13:40:47.172624Z",
          "iopub.status.idle": "2023-11-12T13:45:27.965220Z",
          "shell.execute_reply.started": "2023-11-12T13:40:47.172591Z",
          "shell.execute_reply": "2023-11-12T13:45:27.964271Z"
        },
        "trusted": true,
        "id": "yU0fO6ZM2-cH",
        "outputId": "d9e94ee2-c8b9-4dc9-d5f6-e5da1ee1df6e"
      },
      "execution_count": null,
      "outputs": [
        {
          "name": "stderr",
          "text": "/opt/conda/lib/python3.10/site-packages/sklearn/utils/validation.py:605: FutureWarning: is_sparse is deprecated and will be removed in a future version. Check `isinstance(dtype, pd.SparseDtype)` instead.\n  if is_sparse(pd_dtype):\n/opt/conda/lib/python3.10/site-packages/sklearn/utils/validation.py:614: FutureWarning: is_sparse is deprecated and will be removed in a future version. Check `isinstance(dtype, pd.SparseDtype)` instead.\n  if is_sparse(pd_dtype) or not is_extension_array_dtype(pd_dtype):\n",
          "output_type": "stream"
        },
        {
          "execution_count": 22,
          "output_type": "execute_result",
          "data": {
            "text/plain": "Pipeline(steps=[('vector', TfidfVectorizer()),\n                ('LR', LogisticRegression(max_iter=600))])",
            "text/html": "<style>#sk-container-id-1 {color: black;background-color: white;}#sk-container-id-1 pre{padding: 0;}#sk-container-id-1 div.sk-toggleable {background-color: white;}#sk-container-id-1 label.sk-toggleable__label {cursor: pointer;display: block;width: 100%;margin-bottom: 0;padding: 0.3em;box-sizing: border-box;text-align: center;}#sk-container-id-1 label.sk-toggleable__label-arrow:before {content: \"▸\";float: left;margin-right: 0.25em;color: #696969;}#sk-container-id-1 label.sk-toggleable__label-arrow:hover:before {color: black;}#sk-container-id-1 div.sk-estimator:hover label.sk-toggleable__label-arrow:before {color: black;}#sk-container-id-1 div.sk-toggleable__content {max-height: 0;max-width: 0;overflow: hidden;text-align: left;background-color: #f0f8ff;}#sk-container-id-1 div.sk-toggleable__content pre {margin: 0.2em;color: black;border-radius: 0.25em;background-color: #f0f8ff;}#sk-container-id-1 input.sk-toggleable__control:checked~div.sk-toggleable__content {max-height: 200px;max-width: 100%;overflow: auto;}#sk-container-id-1 input.sk-toggleable__control:checked~label.sk-toggleable__label-arrow:before {content: \"▾\";}#sk-container-id-1 div.sk-estimator input.sk-toggleable__control:checked~label.sk-toggleable__label {background-color: #d4ebff;}#sk-container-id-1 div.sk-label input.sk-toggleable__control:checked~label.sk-toggleable__label {background-color: #d4ebff;}#sk-container-id-1 input.sk-hidden--visually {border: 0;clip: rect(1px 1px 1px 1px);clip: rect(1px, 1px, 1px, 1px);height: 1px;margin: -1px;overflow: hidden;padding: 0;position: absolute;width: 1px;}#sk-container-id-1 div.sk-estimator {font-family: monospace;background-color: #f0f8ff;border: 1px dotted black;border-radius: 0.25em;box-sizing: border-box;margin-bottom: 0.5em;}#sk-container-id-1 div.sk-estimator:hover {background-color: #d4ebff;}#sk-container-id-1 div.sk-parallel-item::after {content: \"\";width: 100%;border-bottom: 1px solid gray;flex-grow: 1;}#sk-container-id-1 div.sk-label:hover label.sk-toggleable__label {background-color: #d4ebff;}#sk-container-id-1 div.sk-serial::before {content: \"\";position: absolute;border-left: 1px solid gray;box-sizing: border-box;top: 0;bottom: 0;left: 50%;z-index: 0;}#sk-container-id-1 div.sk-serial {display: flex;flex-direction: column;align-items: center;background-color: white;padding-right: 0.2em;padding-left: 0.2em;position: relative;}#sk-container-id-1 div.sk-item {position: relative;z-index: 1;}#sk-container-id-1 div.sk-parallel {display: flex;align-items: stretch;justify-content: center;background-color: white;position: relative;}#sk-container-id-1 div.sk-item::before, #sk-container-id-1 div.sk-parallel-item::before {content: \"\";position: absolute;border-left: 1px solid gray;box-sizing: border-box;top: 0;bottom: 0;left: 50%;z-index: -1;}#sk-container-id-1 div.sk-parallel-item {display: flex;flex-direction: column;z-index: 1;position: relative;background-color: white;}#sk-container-id-1 div.sk-parallel-item:first-child::after {align-self: flex-end;width: 50%;}#sk-container-id-1 div.sk-parallel-item:last-child::after {align-self: flex-start;width: 50%;}#sk-container-id-1 div.sk-parallel-item:only-child::after {width: 0;}#sk-container-id-1 div.sk-dashed-wrapped {border: 1px dashed gray;margin: 0 0.4em 0.5em 0.4em;box-sizing: border-box;padding-bottom: 0.4em;background-color: white;}#sk-container-id-1 div.sk-label label {font-family: monospace;font-weight: bold;display: inline-block;line-height: 1.2em;}#sk-container-id-1 div.sk-label-container {text-align: center;}#sk-container-id-1 div.sk-container {/* jupyter's `normalize.less` sets `[hidden] { display: none; }` but bootstrap.min.css set `[hidden] { display: none !important; }` so we also need the `!important` here to be able to override the default hidden behavior on the sphinx rendered scikit-learn.org. See: https://github.com/scikit-learn/scikit-learn/issues/21755 */display: inline-block !important;position: relative;}#sk-container-id-1 div.sk-text-repr-fallback {display: none;}</style><div id=\"sk-container-id-1\" class=\"sk-top-container\"><div class=\"sk-text-repr-fallback\"><pre>Pipeline(steps=[(&#x27;vector&#x27;, TfidfVectorizer()),\n                (&#x27;LR&#x27;, LogisticRegression(max_iter=600))])</pre><b>In a Jupyter environment, please rerun this cell to show the HTML representation or trust the notebook. <br />On GitHub, the HTML representation is unable to render, please try loading this page with nbviewer.org.</b></div><div class=\"sk-container\" hidden><div class=\"sk-item sk-dashed-wrapped\"><div class=\"sk-label-container\"><div class=\"sk-label sk-toggleable\"><input class=\"sk-toggleable__control sk-hidden--visually\" id=\"sk-estimator-id-1\" type=\"checkbox\" ><label for=\"sk-estimator-id-1\" class=\"sk-toggleable__label sk-toggleable__label-arrow\">Pipeline</label><div class=\"sk-toggleable__content\"><pre>Pipeline(steps=[(&#x27;vector&#x27;, TfidfVectorizer()),\n                (&#x27;LR&#x27;, LogisticRegression(max_iter=600))])</pre></div></div></div><div class=\"sk-serial\"><div class=\"sk-item\"><div class=\"sk-estimator sk-toggleable\"><input class=\"sk-toggleable__control sk-hidden--visually\" id=\"sk-estimator-id-2\" type=\"checkbox\" ><label for=\"sk-estimator-id-2\" class=\"sk-toggleable__label sk-toggleable__label-arrow\">TfidfVectorizer</label><div class=\"sk-toggleable__content\"><pre>TfidfVectorizer()</pre></div></div></div><div class=\"sk-item\"><div class=\"sk-estimator sk-toggleable\"><input class=\"sk-toggleable__control sk-hidden--visually\" id=\"sk-estimator-id-3\" type=\"checkbox\" ><label for=\"sk-estimator-id-3\" class=\"sk-toggleable__label sk-toggleable__label-arrow\">LogisticRegression</label><div class=\"sk-toggleable__content\"><pre>LogisticRegression(max_iter=600)</pre></div></div></div></div></div></div></div>"
          },
          "metadata": {}
        }
      ]
    },
    {
      "cell_type": "code",
      "source": [
        "from sklearn.metrics import accuracy_score as accuracy"
      ],
      "metadata": {
        "execution": {
          "iopub.status.busy": "2023-11-12T13:49:42.235979Z",
          "iopub.execute_input": "2023-11-12T13:49:42.236352Z",
          "iopub.status.idle": "2023-11-12T13:49:42.240899Z",
          "shell.execute_reply.started": "2023-11-12T13:49:42.236320Z",
          "shell.execute_reply": "2023-11-12T13:49:42.239823Z"
        },
        "trusted": true,
        "id": "56O8sCpl2-cI"
      },
      "execution_count": null,
      "outputs": []
    },
    {
      "cell_type": "code",
      "source": [
        "accuracy = (accuracy(model.predict(X_val), y_val.values))\n",
        "print(\"Accuracy : \", accuracy)\n",
        "Prediction = model.predict(X_val)"
      ],
      "metadata": {
        "execution": {
          "iopub.status.busy": "2023-11-12T13:49:42.499545Z",
          "iopub.execute_input": "2023-11-12T13:49:42.500285Z",
          "iopub.status.idle": "2023-11-12T13:49:53.800183Z",
          "shell.execute_reply.started": "2023-11-12T13:49:42.500253Z",
          "shell.execute_reply": "2023-11-12T13:49:53.799344Z"
        },
        "trusted": true,
        "id": "y043I91k2-cI",
        "outputId": "8203ca0f-8f54-423b-b137-410d7a1553ed"
      },
      "execution_count": null,
      "outputs": [
        {
          "name": "stdout",
          "text": "Accuracy :  0.9715141568442919\n",
          "output_type": "stream"
        }
      ]
    },
    {
      "cell_type": "code",
      "source": [
        "print(model.predict(['you are a bad person']))"
      ],
      "metadata": {
        "execution": {
          "iopub.status.busy": "2023-11-12T13:53:13.194270Z",
          "iopub.execute_input": "2023-11-12T13:53:13.195149Z",
          "iopub.status.idle": "2023-11-12T13:53:13.206376Z",
          "shell.execute_reply.started": "2023-11-12T13:53:13.195118Z",
          "shell.execute_reply": "2023-11-12T13:53:13.205374Z"
        },
        "trusted": true,
        "id": "Iy_2-M2q2-cI",
        "outputId": "81bf4753-5799-4fd5-fc88-d5872bc1230d"
      },
      "execution_count": null,
      "outputs": [
        {
          "name": "stdout",
          "text": "['negative']\n",
          "output_type": "stream"
        }
      ]
    },
    {
      "cell_type": "code",
      "source": [],
      "metadata": {
        "id": "lGT5hAP12-cI"
      },
      "execution_count": null,
      "outputs": []
    },
    {
      "cell_type": "code",
      "source": [
        "train_new1 = train[['Label', 'Text']].sample(frac=0.3, random_state = 42)"
      ],
      "metadata": {
        "execution": {
          "iopub.status.busy": "2023-11-12T13:59:46.150672Z",
          "iopub.execute_input": "2023-11-12T13:59:46.151021Z",
          "iopub.status.idle": "2023-11-12T13:59:46.267701Z",
          "shell.execute_reply.started": "2023-11-12T13:59:46.150994Z",
          "shell.execute_reply": "2023-11-12T13:59:46.266940Z"
        },
        "trusted": true,
        "id": "rXlL7Osn2-cI"
      },
      "execution_count": null,
      "outputs": []
    },
    {
      "cell_type": "code",
      "source": [
        "train_new1['Text'] = train_new1['Text'].replace(r'http\\S+', '', regex=True).replace(r'www\\S+', '', regex=True).str.replace('@[A-Za-z0-9]+\\s?', '', regex=True)\n"
      ],
      "metadata": {
        "execution": {
          "iopub.status.busy": "2023-11-12T12:58:32.516289Z",
          "iopub.execute_input": "2023-11-12T12:58:32.517005Z",
          "iopub.status.idle": "2023-11-12T12:58:34.497788Z",
          "shell.execute_reply.started": "2023-11-12T12:58:32.516956Z",
          "shell.execute_reply": "2023-11-12T12:58:34.496632Z"
        },
        "trusted": true,
        "id": "9eDdTwfN2-cI"
      },
      "execution_count": null,
      "outputs": []
    },
    {
      "cell_type": "code",
      "source": [
        "def clean_text(data):\n",
        "\n",
        "    data = data.str.lower()\n",
        "    data = data.replace(r'http\\S+', '', regex=True).replace(r'www\\S+', '', regex=True).str.replace('@[A-Za-z0-9]+\\s?', '', regex=True)\n",
        "    data = data.str.replace('[^\\w\\s]', '')\n",
        "    data = data.str.replace('_[A-Za-z0-9]+\\s?', '', regex=True)\n",
        "\n",
        "    return data"
      ],
      "metadata": {
        "execution": {
          "iopub.status.busy": "2023-11-12T12:59:14.840250Z",
          "iopub.execute_input": "2023-11-12T12:59:14.840607Z",
          "iopub.status.idle": "2023-11-12T12:59:14.846561Z",
          "shell.execute_reply.started": "2023-11-12T12:59:14.840577Z",
          "shell.execute_reply": "2023-11-12T12:59:14.845444Z"
        },
        "trusted": true,
        "id": "paFMVkaK2-cI"
      },
      "execution_count": null,
      "outputs": []
    },
    {
      "cell_type": "code",
      "source": [
        "train_new1['Text'] = clean_text(train_new1['Text'])"
      ],
      "metadata": {
        "execution": {
          "iopub.status.busy": "2023-11-12T12:59:15.146717Z",
          "iopub.execute_input": "2023-11-12T12:59:15.147625Z",
          "iopub.status.idle": "2023-11-12T12:59:17.731107Z",
          "shell.execute_reply.started": "2023-11-12T12:59:15.147584Z",
          "shell.execute_reply": "2023-11-12T12:59:17.729950Z"
        },
        "trusted": true,
        "id": "TOplPaPj2-cI"
      },
      "execution_count": null,
      "outputs": []
    },
    {
      "cell_type": "code",
      "source": [
        "labels_dict = {'positive':0,\n",
        "          'negative':1,\n",
        "          'uncertainty':2,\n",
        "          'litigious':3,\n",
        "          }"
      ],
      "metadata": {
        "execution": {
          "iopub.status.busy": "2023-11-12T17:00:57.058824Z",
          "iopub.execute_input": "2023-11-12T17:00:57.059193Z",
          "iopub.status.idle": "2023-11-12T17:00:57.063737Z",
          "shell.execute_reply.started": "2023-11-12T17:00:57.059164Z",
          "shell.execute_reply": "2023-11-12T17:00:57.062832Z"
        },
        "trusted": true,
        "id": "vkaMoZ2R2-cI"
      },
      "execution_count": null,
      "outputs": []
    },
    {
      "cell_type": "code",
      "source": [
        "train_new1['Label'] = train_new1['Label'].map(labels)"
      ],
      "metadata": {
        "execution": {
          "iopub.status.busy": "2023-11-12T14:00:00.377957Z",
          "iopub.execute_input": "2023-11-12T14:00:00.378681Z",
          "iopub.status.idle": "2023-11-12T14:00:00.409076Z",
          "shell.execute_reply.started": "2023-11-12T14:00:00.378648Z",
          "shell.execute_reply": "2023-11-12T14:00:00.408283Z"
        },
        "trusted": true,
        "id": "zy2ZD11B2-cJ"
      },
      "execution_count": null,
      "outputs": []
    },
    {
      "cell_type": "code",
      "source": [
        "train_new = train_new1[['Label', 'Text']]"
      ],
      "metadata": {
        "execution": {
          "iopub.status.busy": "2023-11-12T08:43:07.622102Z",
          "iopub.execute_input": "2023-11-12T08:43:07.622809Z",
          "iopub.status.idle": "2023-11-12T08:43:07.657456Z",
          "shell.execute_reply.started": "2023-11-12T08:43:07.622773Z",
          "shell.execute_reply": "2023-11-12T08:43:07.656622Z"
        },
        "trusted": true,
        "id": "Z4JAG7DZ2-cJ"
      },
      "execution_count": null,
      "outputs": []
    },
    {
      "cell_type": "code",
      "source": [
        "train_new1"
      ],
      "metadata": {
        "execution": {
          "iopub.status.busy": "2023-11-12T14:45:28.357339Z",
          "iopub.execute_input": "2023-11-12T14:45:28.358066Z",
          "iopub.status.idle": "2023-11-12T14:45:28.369118Z",
          "shell.execute_reply.started": "2023-11-12T14:45:28.358032Z",
          "shell.execute_reply": "2023-11-12T14:45:28.368129Z"
        },
        "trusted": true,
        "id": "VFyRs_x02-cJ",
        "outputId": "4e763058-ddeb-4a98-db9d-eb63bff6eca7"
      },
      "execution_count": null,
      "outputs": [
        {
          "execution_count": 73,
          "output_type": "execute_result",
          "data": {
            "text/plain": "        Label                                               Text\n658880      2  “no party nomination, with the possible except...\n927454      0  i get asked often, “do the results really last...\n623230      0                  what a incredible giveaway 👌 \\n\\n\n387639      0  static, coveting subtle radiance.\\n\\nanaphoric...\n308229      1  no health care for smokers?  figure out who ca...\n...       ...                                                ...\n126806      1  must share moment. ignore my very bad cough. i...\n857458      0  of course, as i’m sure you know, modern medica...\n904475      1  what do you think about your h  #discount #que...\n273238      3  built in a fertile agricultural area, it devel...\n282758      0    incredible by celine dion and neyo was slept on\n\n[261393 rows x 2 columns]",
            "text/html": "<div>\n<style scoped>\n    .dataframe tbody tr th:only-of-type {\n        vertical-align: middle;\n    }\n\n    .dataframe tbody tr th {\n        vertical-align: top;\n    }\n\n    .dataframe thead th {\n        text-align: right;\n    }\n</style>\n<table border=\"1\" class=\"dataframe\">\n  <thead>\n    <tr style=\"text-align: right;\">\n      <th></th>\n      <th>Label</th>\n      <th>Text</th>\n    </tr>\n  </thead>\n  <tbody>\n    <tr>\n      <th>658880</th>\n      <td>2</td>\n      <td>“no party nomination, with the possible except...</td>\n    </tr>\n    <tr>\n      <th>927454</th>\n      <td>0</td>\n      <td>i get asked often, “do the results really last...</td>\n    </tr>\n    <tr>\n      <th>623230</th>\n      <td>0</td>\n      <td>what a incredible giveaway 👌 \\n\\n</td>\n    </tr>\n    <tr>\n      <th>387639</th>\n      <td>0</td>\n      <td>static, coveting subtle radiance.\\n\\nanaphoric...</td>\n    </tr>\n    <tr>\n      <th>308229</th>\n      <td>1</td>\n      <td>no health care for smokers?  figure out who ca...</td>\n    </tr>\n    <tr>\n      <th>...</th>\n      <td>...</td>\n      <td>...</td>\n    </tr>\n    <tr>\n      <th>126806</th>\n      <td>1</td>\n      <td>must share moment. ignore my very bad cough. i...</td>\n    </tr>\n    <tr>\n      <th>857458</th>\n      <td>0</td>\n      <td>of course, as i’m sure you know, modern medica...</td>\n    </tr>\n    <tr>\n      <th>904475</th>\n      <td>1</td>\n      <td>what do you think about your h  #discount #que...</td>\n    </tr>\n    <tr>\n      <th>273238</th>\n      <td>3</td>\n      <td>built in a fertile agricultural area, it devel...</td>\n    </tr>\n    <tr>\n      <th>282758</th>\n      <td>0</td>\n      <td>incredible by celine dion and neyo was slept on</td>\n    </tr>\n  </tbody>\n</table>\n<p>261393 rows × 2 columns</p>\n</div>"
          },
          "metadata": {}
        }
      ]
    },
    {
      "cell_type": "code",
      "source": [
        "X_train, X_val, y_train, y_val = train_test_split(train_new1.Text.values,\n",
        "                                                  train_new1.Label.values,\n",
        "                                                  test_size=0.15,\n",
        "                                                  random_state=42)"
      ],
      "metadata": {
        "execution": {
          "iopub.status.busy": "2023-11-12T14:45:34.739171Z",
          "iopub.execute_input": "2023-11-12T14:45:34.740011Z",
          "iopub.status.idle": "2023-11-12T14:45:34.771775Z",
          "shell.execute_reply.started": "2023-11-12T14:45:34.739978Z",
          "shell.execute_reply": "2023-11-12T14:45:34.770776Z"
        },
        "trusted": true,
        "id": "No4MttG-2-cJ"
      },
      "execution_count": null,
      "outputs": []
    },
    {
      "cell_type": "code",
      "source": [
        "from transformers import BertTokenizer\n",
        "from torch.utils.data import TensorDataset"
      ],
      "metadata": {
        "execution": {
          "iopub.status.busy": "2023-11-12T14:45:35.746968Z",
          "iopub.execute_input": "2023-11-12T14:45:35.747904Z",
          "iopub.status.idle": "2023-11-12T14:45:35.752115Z",
          "shell.execute_reply.started": "2023-11-12T14:45:35.747866Z",
          "shell.execute_reply": "2023-11-12T14:45:35.751144Z"
        },
        "trusted": true,
        "id": "UhcmvXWi2-cJ"
      },
      "execution_count": null,
      "outputs": []
    },
    {
      "cell_type": "code",
      "source": [
        "tokenizer = BertTokenizer.from_pretrained(\n",
        "    'bert-base-uncased',\n",
        "    do_lower_case=True\n",
        ")\n"
      ],
      "metadata": {
        "execution": {
          "iopub.status.busy": "2023-11-12T14:45:50.909357Z",
          "iopub.execute_input": "2023-11-12T14:45:50.910011Z",
          "iopub.status.idle": "2023-11-12T14:45:51.138176Z",
          "shell.execute_reply.started": "2023-11-12T14:45:50.909978Z",
          "shell.execute_reply": "2023-11-12T14:45:51.137269Z"
        },
        "trusted": true,
        "id": "jht3fWQM2-cJ"
      },
      "execution_count": null,
      "outputs": []
    },
    {
      "cell_type": "code",
      "source": [
        "encoded_data_train = tokenizer.batch_encode_plus(\n",
        "    X_train,\n",
        "    add_special_tokens=True,\n",
        "    return_attention_mask=True,\n",
        "    pad_to_max_length=True,\n",
        "    max_length=256,\n",
        "    return_tensors='pt'\n",
        ")\n",
        "\n",
        "encoded_data_val = tokenizer.batch_encode_plus(\n",
        "    X_val,\n",
        "    add_special_tokens=True,\n",
        "    return_attention_mask=True,\n",
        "    pad_to_max_length=True,\n",
        "    max_length=256,\n",
        "    return_tensors='pt'\n",
        ")\n",
        "\n",
        "input_ids_train = encoded_data_train['input_ids']\n",
        "attention_masks_train = encoded_data_train['attention_mask']\n"
      ],
      "metadata": {
        "execution": {
          "iopub.status.busy": "2023-11-12T14:45:51.171009Z",
          "iopub.execute_input": "2023-11-12T14:45:51.171748Z",
          "iopub.status.idle": "2023-11-12T14:51:25.065160Z",
          "shell.execute_reply.started": "2023-11-12T14:45:51.171709Z",
          "shell.execute_reply": "2023-11-12T14:51:25.064347Z"
        },
        "trusted": true,
        "id": "oikkOgj72-cJ",
        "outputId": "0910c5d9-476d-43f7-8d91-6e9cd5e92925"
      },
      "execution_count": null,
      "outputs": [
        {
          "name": "stderr",
          "text": "Truncation was not explicitly activated but `max_length` is provided a specific value, please use `truncation=True` to explicitly truncate examples to max length. Defaulting to 'longest_first' truncation strategy. If you encode pairs of sequences (GLUE-style) with the tokenizer you can select this strategy more precisely by providing a specific strategy to `truncation`.\n/opt/conda/lib/python3.10/site-packages/transformers/tokenization_utils_base.py:2614: FutureWarning: The `pad_to_max_length` argument is deprecated and will be removed in a future version, use `padding=True` or `padding='longest'` to pad to the longest sequence in the batch, or use `padding='max_length'` to pad to a max length. In this case, you can give a specific length with `max_length` (e.g. `max_length=45`) or leave max_length to None to pad to the maximal input size of the model (e.g. 512 for Bert).\n  warnings.warn(\n",
          "output_type": "stream"
        }
      ]
    },
    {
      "cell_type": "code",
      "source": [
        "labels_train = torch.tensor(y_train)"
      ],
      "metadata": {
        "execution": {
          "iopub.status.busy": "2023-11-12T14:51:35.191724Z",
          "iopub.execute_input": "2023-11-12T14:51:35.192436Z",
          "iopub.status.idle": "2023-11-12T14:51:35.196728Z",
          "shell.execute_reply.started": "2023-11-12T14:51:35.192405Z",
          "shell.execute_reply": "2023-11-12T14:51:35.195817Z"
        },
        "trusted": true,
        "id": "VppVjxmP2-cJ"
      },
      "execution_count": null,
      "outputs": []
    },
    {
      "cell_type": "code",
      "source": [
        "input_ids_val = encoded_data_val['input_ids']\n",
        "attention_masks_val = encoded_data_val['attention_mask']\n",
        "labels_val = torch.tensor(y_val)"
      ],
      "metadata": {
        "execution": {
          "iopub.status.busy": "2023-11-12T14:55:19.450096Z",
          "iopub.execute_input": "2023-11-12T14:55:19.450528Z",
          "iopub.status.idle": "2023-11-12T14:55:19.455538Z",
          "shell.execute_reply.started": "2023-11-12T14:55:19.450497Z",
          "shell.execute_reply": "2023-11-12T14:55:19.454596Z"
        },
        "trusted": true,
        "id": "JdWvzBz52-cK"
      },
      "execution_count": null,
      "outputs": []
    },
    {
      "cell_type": "code",
      "source": [
        "dataset_train = TensorDataset(input_ids_train,\n",
        "                              attention_masks_train,\n",
        "                              labels_train)\n",
        "\n",
        "dataset_val = TensorDataset(input_ids_val,\n",
        "                            attention_masks_val,\n",
        "                           labels_val)"
      ],
      "metadata": {
        "execution": {
          "iopub.status.busy": "2023-11-12T14:55:23.367281Z",
          "iopub.execute_input": "2023-11-12T14:55:23.367685Z",
          "iopub.status.idle": "2023-11-12T14:55:23.373136Z",
          "shell.execute_reply.started": "2023-11-12T14:55:23.367652Z",
          "shell.execute_reply": "2023-11-12T14:55:23.371916Z"
        },
        "trusted": true,
        "id": "WEW4xPQz2-cK"
      },
      "execution_count": null,
      "outputs": []
    },
    {
      "cell_type": "code",
      "source": [
        "from transformers import BertForSequenceClassification"
      ],
      "metadata": {
        "execution": {
          "iopub.status.busy": "2023-11-12T14:55:25.529058Z",
          "iopub.execute_input": "2023-11-12T14:55:25.529445Z",
          "iopub.status.idle": "2023-11-12T14:55:25.533888Z",
          "shell.execute_reply.started": "2023-11-12T14:55:25.529417Z",
          "shell.execute_reply": "2023-11-12T14:55:25.532871Z"
        },
        "trusted": true,
        "id": "utTUoqwX2-cK"
      },
      "execution_count": null,
      "outputs": []
    },
    {
      "cell_type": "code",
      "source": [
        "model = BertForSequenceClassification.from_pretrained(\n",
        "                                      'bert-base-uncased',\n",
        "                                      num_labels = 4,\n",
        "                                      output_attentions = False,\n",
        "                                      output_hidden_states = False\n",
        "                                     )"
      ],
      "metadata": {
        "execution": {
          "iopub.status.busy": "2023-11-12T14:55:25.730509Z",
          "iopub.execute_input": "2023-11-12T14:55:25.730878Z",
          "iopub.status.idle": "2023-11-12T14:55:26.783157Z",
          "shell.execute_reply.started": "2023-11-12T14:55:25.730848Z",
          "shell.execute_reply": "2023-11-12T14:55:26.782189Z"
        },
        "trusted": true,
        "id": "WP-jBLIZ2-cK",
        "outputId": "37743022-b88d-4fe4-bbd8-1072452b79d7"
      },
      "execution_count": null,
      "outputs": [
        {
          "name": "stderr",
          "text": "Some weights of BertForSequenceClassification were not initialized from the model checkpoint at bert-base-uncased and are newly initialized: ['classifier.bias', 'classifier.weight']\nYou should probably TRAIN this model on a down-stream task to be able to use it for predictions and inference.\n",
          "output_type": "stream"
        }
      ]
    },
    {
      "cell_type": "code",
      "source": [
        "from torch.utils.data import DataLoader, RandomSampler, SequentialSampler\n"
      ],
      "metadata": {
        "execution": {
          "iopub.status.busy": "2023-11-12T14:55:29.761356Z",
          "iopub.execute_input": "2023-11-12T14:55:29.761700Z",
          "iopub.status.idle": "2023-11-12T14:55:29.766142Z",
          "shell.execute_reply.started": "2023-11-12T14:55:29.761674Z",
          "shell.execute_reply": "2023-11-12T14:55:29.765160Z"
        },
        "trusted": true,
        "id": "jlZZk8CC2-cK"
      },
      "execution_count": null,
      "outputs": []
    },
    {
      "cell_type": "code",
      "source": [
        "batch_size = 4\n",
        "\n",
        "dataloader_train = DataLoader(\n",
        "    dataset_train,\n",
        "    sampler=RandomSampler(dataset_train),\n",
        "    batch_size=batch_size\n",
        ")\n",
        "\n",
        "dataloader_val = DataLoader(\n",
        "    dataset_val,\n",
        "    sampler=RandomSampler(dataset_val),\n",
        "    batch_size=32\n",
        ")\n"
      ],
      "metadata": {
        "execution": {
          "iopub.status.busy": "2023-11-12T14:55:32.298416Z",
          "iopub.execute_input": "2023-11-12T14:55:32.299031Z",
          "iopub.status.idle": "2023-11-12T14:55:32.304043Z",
          "shell.execute_reply.started": "2023-11-12T14:55:32.299000Z",
          "shell.execute_reply": "2023-11-12T14:55:32.303060Z"
        },
        "trusted": true,
        "id": "7d_lsgRW2-cK"
      },
      "execution_count": null,
      "outputs": []
    },
    {
      "cell_type": "code",
      "source": [
        "from transformers import AdamW, get_linear_schedule_with_warmup\n"
      ],
      "metadata": {
        "execution": {
          "iopub.status.busy": "2023-11-12T14:55:32.536373Z",
          "iopub.execute_input": "2023-11-12T14:55:32.537333Z",
          "iopub.status.idle": "2023-11-12T14:55:32.541633Z",
          "shell.execute_reply.started": "2023-11-12T14:55:32.537287Z",
          "shell.execute_reply": "2023-11-12T14:55:32.540685Z"
        },
        "trusted": true,
        "id": "41vBRSP22-cQ"
      },
      "execution_count": null,
      "outputs": []
    },
    {
      "cell_type": "code",
      "source": [
        "optimizer = AdamW(\n",
        "    model.parameters(),\n",
        "    lr = 1e-5,\n",
        "    eps = 1e-8\n",
        ")"
      ],
      "metadata": {
        "execution": {
          "iopub.status.busy": "2023-11-12T14:55:34.588410Z",
          "iopub.execute_input": "2023-11-12T14:55:34.589075Z",
          "iopub.status.idle": "2023-11-12T14:55:34.599225Z",
          "shell.execute_reply.started": "2023-11-12T14:55:34.589042Z",
          "shell.execute_reply": "2023-11-12T14:55:34.598284Z"
        },
        "trusted": true,
        "id": "2i1B3Lzp2-cQ",
        "outputId": "6a060619-63da-46c0-c6e7-2fe808caed56"
      },
      "execution_count": null,
      "outputs": [
        {
          "name": "stderr",
          "text": "/opt/conda/lib/python3.10/site-packages/transformers/optimization.py:411: FutureWarning: This implementation of AdamW is deprecated and will be removed in a future version. Use the PyTorch implementation torch.optim.AdamW instead, or set `no_deprecation_warning=True` to disable this warning\n  warnings.warn(\n",
          "output_type": "stream"
        }
      ]
    },
    {
      "cell_type": "code",
      "source": [
        "epochs = 1\n",
        "\n",
        "scheduler = get_linear_schedule_with_warmup(\n",
        "    optimizer,\n",
        "    num_warmup_steps=0,\n",
        "    num_training_steps = len(dataloader_train)*epochs\n",
        ")"
      ],
      "metadata": {
        "execution": {
          "iopub.status.busy": "2023-11-12T14:55:35.788651Z",
          "iopub.execute_input": "2023-11-12T14:55:35.789027Z",
          "iopub.status.idle": "2023-11-12T14:55:35.794121Z",
          "shell.execute_reply.started": "2023-11-12T14:55:35.788998Z",
          "shell.execute_reply": "2023-11-12T14:55:35.793029Z"
        },
        "trusted": true,
        "id": "fwA8kF3z2-cR"
      },
      "execution_count": null,
      "outputs": []
    },
    {
      "cell_type": "code",
      "source": [
        "import random\n",
        "\n",
        "seed_val = 17\n",
        "random.seed(seed_val)\n",
        "np.random.seed(seed_val)\n",
        "torch.manual_seed(seed_val)\n",
        "torch.cuda.manual_seed_all(seed_val)"
      ],
      "metadata": {
        "execution": {
          "iopub.status.busy": "2023-11-12T14:55:38.536787Z",
          "iopub.execute_input": "2023-11-12T14:55:38.537148Z",
          "iopub.status.idle": "2023-11-12T14:55:38.544124Z",
          "shell.execute_reply.started": "2023-11-12T14:55:38.537119Z",
          "shell.execute_reply": "2023-11-12T14:55:38.543177Z"
        },
        "trusted": true,
        "id": "LizKEugk2-cR"
      },
      "execution_count": null,
      "outputs": []
    },
    {
      "cell_type": "code",
      "source": [
        "device = torch.device('cuda' if torch.cuda.is_available() else 'cpu')\n",
        "model.to(device)\n",
        "print(device)"
      ],
      "metadata": {
        "execution": {
          "iopub.status.busy": "2023-11-12T14:55:41.905974Z",
          "iopub.execute_input": "2023-11-12T14:55:41.906669Z",
          "iopub.status.idle": "2023-11-12T14:55:42.020249Z",
          "shell.execute_reply.started": "2023-11-12T14:55:41.906638Z",
          "shell.execute_reply": "2023-11-12T14:55:42.019336Z"
        },
        "trusted": true,
        "id": "_tPqlYhs2-cR",
        "outputId": "21ee4fb7-1d75-4bf1-c8c0-e5eb42c7b816"
      },
      "execution_count": null,
      "outputs": [
        {
          "name": "stdout",
          "text": "cuda\n",
          "output_type": "stream"
        }
      ]
    },
    {
      "cell_type": "code",
      "source": [
        "def evaluate(dataloader_val):\n",
        "\n",
        "    model.eval()\n",
        "\n",
        "    loss_val_total = 0\n",
        "    predictions, true_vals = [], []\n",
        "\n",
        "    for batch in tqdm(dataloader_val):\n",
        "\n",
        "        batch = tuple(b.to(device) for b in batch)\n",
        "\n",
        "        inputs = {'input_ids':      batch[0],\n",
        "                  'attention_mask': batch[1],\n",
        "                  'labels':         batch[2],\n",
        "                 }\n",
        "        with torch.no_grad():\n",
        "            outputs = model(**inputs)\n",
        "\n",
        "        loss = outputs[0]\n",
        "        logits = outputs[1]\n",
        "        loss_val_total += loss.item()\n",
        "\n",
        "        logits = logits.detach().cpu().numpy()\n",
        "        label_ids = inputs['labels'].cpu().numpy()\n",
        "        predictions.append(logits)\n",
        "        true_vals.append(label_ids)\n",
        "\n",
        "    loss_val_avg = loss_val_total/len(dataloader_val)\n",
        "\n",
        "    predictions = np.concatenate(predictions, axis=0)\n",
        "    true_vals = np.concatenate(true_vals, axis=0)\n",
        "\n",
        "    return loss_val_avg, predictions, true_vals"
      ],
      "metadata": {
        "execution": {
          "iopub.status.busy": "2023-11-12T14:55:43.936487Z",
          "iopub.execute_input": "2023-11-12T14:55:43.937234Z",
          "iopub.status.idle": "2023-11-12T14:55:43.945272Z",
          "shell.execute_reply.started": "2023-11-12T14:55:43.937198Z",
          "shell.execute_reply": "2023-11-12T14:55:43.944254Z"
        },
        "trusted": true,
        "id": "NHMEy28P2-cR"
      },
      "execution_count": null,
      "outputs": []
    },
    {
      "cell_type": "code",
      "source": [
        "import torch\n",
        "from tqdm.notebook import tqdm\n",
        "\n",
        "for epoch in tqdm(range(1, epochs+1)):\n",
        "    model.train()\n",
        "    loss_train_total = 0\n",
        "\n",
        "    progress_bar = tqdm(dataloader_train,\n",
        "                        desc='Epoch {:1d}'.format(epoch),\n",
        "                        leave=False,\n",
        "                        disable=False)\n",
        "\n",
        "    for batch in progress_bar:\n",
        "        model.zero_grad()\n",
        "        batch = tuple(b.to(device) for b in batch)\n",
        "        inputs = {\n",
        "            'input_ids': batch[0],\n",
        "            'attention_mask': batch[1],\n",
        "            'labels': batch[2]\n",
        "        }\n",
        "\n",
        "        outputs = model(**inputs)\n",
        "        loss = outputs[0]\n",
        "        loss_train_total +=loss.item()\n",
        "        loss.backward()\n",
        "\n",
        "        torch.nn.utils.clip_grad_norm_(model.parameters(), 1.0)\n",
        "\n",
        "        optimizer.step()\n",
        "        scheduler.step()\n",
        "\n",
        "        progress_bar.set_postfix({'training_loss': '{:.3f}'.format(loss.item()/len(batch))})\n",
        "\n",
        "    tqdm.write('\\nEpoch {epoch}')\n",
        "\n",
        "    loss_train_avg = loss_train_total/len(dataloader_train)\n",
        "    tqdm.write(f'Training loss: {loss_train_avg}')\n",
        "\n",
        "    val_loss, predictions, true_vals = evaluate(dataloader_val)\n",
        "    val_f1 = f1_score_func(predictions, true_vals)\n",
        "    tqdm.write(f'Validation loss: {val_loss}')"
      ],
      "metadata": {
        "execution": {
          "iopub.status.busy": "2023-11-12T14:55:45.510546Z",
          "iopub.execute_input": "2023-11-12T14:55:45.511476Z",
          "iopub.status.idle": "2023-11-12T16:55:59.849697Z",
          "shell.execute_reply.started": "2023-11-12T14:55:45.511441Z",
          "shell.execute_reply": "2023-11-12T16:55:59.848375Z"
        },
        "trusted": true,
        "id": "nGcnJTF32-cR"
      },
      "execution_count": null,
      "outputs": []
    },
    {
      "cell_type": "code",
      "source": [],
      "metadata": {
        "id": "HGdhPSo_3cdO"
      },
      "execution_count": null,
      "outputs": []
    }
  ]
}